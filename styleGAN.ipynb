{
  "nbformat": 4,
  "nbformat_minor": 0,
  "metadata": {
    "colab": {
      "name": "styleGAN.ipynb",
      "provenance": [],
      "collapsed_sections": [],
      "authorship_tag": "ABX9TyO73KhFzVjyCZ/GiOUkkjRM",
      "include_colab_link": true
    },
    "kernelspec": {
      "name": "python3",
      "display_name": "Python 3"
    },
    "language_info": {
      "name": "python"
    },
    "accelerator": "GPU"
  },
  "cells": [
    {
      "cell_type": "markdown",
      "metadata": {
        "id": "view-in-github",
        "colab_type": "text"
      },
      "source": [
        "<a href=\"https://colab.research.google.com/github/Ucchwas/Generates-Faces-using-StyleGAN2/blob/main/styleGAN.ipynb\" target=\"_parent\"><img src=\"https://colab.research.google.com/assets/colab-badge.svg\" alt=\"Open In Colab\"/></a>"
      ]
    },
    {
      "cell_type": "code",
      "metadata": {
        "id": "Bn560dU1gWzY"
      },
      "source": [
        "%tensorflow_version 1.x\n",
        "import tensorflow"
      ],
      "execution_count": 4,
      "outputs": []
    },
    {
      "cell_type": "code",
      "metadata": {
        "colab": {
          "base_uri": "https://localhost:8080/"
        },
        "id": "v0VTytiuirci",
        "outputId": "a5b765bb-e598-4ea8-ec7f-d7f2e5e6d89d"
      },
      "source": [
        "from google.colab import drive\n",
        "drive.mount('/content/drive', force_remount=True)"
      ],
      "execution_count": 5,
      "outputs": [
        {
          "output_type": "stream",
          "name": "stdout",
          "text": [
            "Mounted at /content/drive\n"
          ]
        }
      ]
    },
    {
      "cell_type": "code",
      "metadata": {
        "colab": {
          "base_uri": "https://localhost:8080/"
        },
        "id": "gC2Gjy7riufq",
        "outputId": "674eae39-586d-4139-afa7-4a6019ce169d"
      },
      "source": [
        "!git clone https://github.com/NVlabs/stylegan2.git"
      ],
      "execution_count": 6,
      "outputs": [
        {
          "output_type": "stream",
          "name": "stdout",
          "text": [
            "Cloning into 'stylegan2'...\n",
            "remote: Enumerating objects: 131, done.\u001b[K\n",
            "remote: Counting objects: 100% (4/4), done.\u001b[K\n",
            "remote: Compressing objects: 100% (4/4), done.\u001b[K\n",
            "remote: Total 131 (delta 0), reused 1 (delta 0), pack-reused 127\u001b[K\n",
            "Receiving objects: 100% (131/131), 593.76 KiB | 5.65 MiB/s, done.\n",
            "Resolving deltas: 100% (58/58), done.\n"
          ]
        }
      ]
    },
    {
      "cell_type": "code",
      "metadata": {
        "colab": {
          "base_uri": "https://localhost:8080/"
        },
        "id": "wLLO0CxFkMRZ",
        "outputId": "0ea1411d-57e9-4624-9ff6-a27052a12acc"
      },
      "source": [
        "!python /content/stylegan2/run_generator.py generate-images \\\n",
        "    --network=gdrive:networks/stylegan2-ffhq-config-f.pkl \\\n",
        "  --seeds=6600-6625 --truncation-psi=0.5"
      ],
      "execution_count": 7,
      "outputs": [
        {
          "output_type": "stream",
          "name": "stdout",
          "text": [
            "Local submit - run_dir: results/00000-generate-images\n",
            "dnnlib: Running run_generator.generate_images() on localhost...\n",
            "Loading networks from \"gdrive:networks/stylegan2-ffhq-config-f.pkl\"...\n",
            "Downloading https://nvlabs-fi-cdn.nvidia.com/stylegan2/networks/stylegan2-ffhq-config-f.pkl ... done\n",
            "Setting up TensorFlow plugin \"fused_bias_act.cu\": Preprocessing... Compiling... Loading... Done.\n",
            "Setting up TensorFlow plugin \"upfirdn_2d.cu\": Preprocessing... Compiling... Loading... Done.\n",
            "Generating image for seed 6600 (0/26) ...\n",
            "Generating image for seed 6601 (1/26) ...\n",
            "Generating image for seed 6602 (2/26) ...\n",
            "Generating image for seed 6603 (3/26) ...\n",
            "Generating image for seed 6604 (4/26) ...\n",
            "Generating image for seed 6605 (5/26) ...\n",
            "Generating image for seed 6606 (6/26) ...\n",
            "Generating image for seed 6607 (7/26) ...\n",
            "Generating image for seed 6608 (8/26) ...\n",
            "Generating image for seed 6609 (9/26) ...\n",
            "Generating image for seed 6610 (10/26) ...\n",
            "Generating image for seed 6611 (11/26) ...\n",
            "Generating image for seed 6612 (12/26) ...\n",
            "Generating image for seed 6613 (13/26) ...\n",
            "Generating image for seed 6614 (14/26) ...\n",
            "Generating image for seed 6615 (15/26) ...\n",
            "Generating image for seed 6616 (16/26) ...\n",
            "Generating image for seed 6617 (17/26) ...\n",
            "Generating image for seed 6618 (18/26) ...\n",
            "Generating image for seed 6619 (19/26) ...\n",
            "Generating image for seed 6620 (20/26) ...\n",
            "Generating image for seed 6621 (21/26) ...\n",
            "Generating image for seed 6622 (22/26) ...\n",
            "Generating image for seed 6623 (23/26) ...\n",
            "Generating image for seed 6624 (24/26) ...\n",
            "Generating image for seed 6625 (25/26) ...\n",
            "dnnlib: Finished run_generator.generate_images() in 1m 30s.\n"
          ]
        }
      ]
    },
    {
      "cell_type": "code",
      "metadata": {
        "id": "pNG1pL2Gl3UW"
      },
      "source": [
        "cp /content/results/00000-generate-images/* /content/drive/MyDrive/projects/stylegan2/"
      ],
      "execution_count": 8,
      "outputs": []
    },
    {
      "cell_type": "code",
      "metadata": {
        "colab": {
          "base_uri": "https://localhost:8080/"
        },
        "id": "UpFRyPQRJERQ",
        "outputId": "2249a19b-7d4e-4b19-d6b7-b3e550b1bb7d"
      },
      "source": [
        "!pip install matplotlib-venn\n",
        "!apt-get -qq install -y libfluidsynth1"
      ],
      "execution_count": 9,
      "outputs": [
        {
          "output_type": "stream",
          "name": "stdout",
          "text": [
            "Requirement already satisfied: matplotlib-venn in /usr/local/lib/python3.7/dist-packages (0.11.6)\n",
            "Requirement already satisfied: numpy in /usr/local/lib/python3.7/dist-packages (from matplotlib-venn) (1.19.5)\n",
            "Requirement already satisfied: scipy in /usr/local/lib/python3.7/dist-packages (from matplotlib-venn) (1.4.1)\n",
            "Requirement already satisfied: matplotlib in /usr/local/lib/python3.7/dist-packages (from matplotlib-venn) (3.2.2)\n",
            "Requirement already satisfied: cycler>=0.10 in /usr/local/lib/python3.7/dist-packages (from matplotlib->matplotlib-venn) (0.10.0)\n",
            "Requirement already satisfied: pyparsing!=2.0.4,!=2.1.2,!=2.1.6,>=2.0.1 in /usr/local/lib/python3.7/dist-packages (from matplotlib->matplotlib-venn) (2.4.7)\n",
            "Requirement already satisfied: python-dateutil>=2.1 in /usr/local/lib/python3.7/dist-packages (from matplotlib->matplotlib-venn) (2.8.2)\n",
            "Requirement already satisfied: kiwisolver>=1.0.1 in /usr/local/lib/python3.7/dist-packages (from matplotlib->matplotlib-venn) (1.3.2)\n",
            "Requirement already satisfied: six in /usr/local/lib/python3.7/dist-packages (from cycler>=0.10->matplotlib->matplotlib-venn) (1.15.0)\n",
            "Selecting previously unselected package libfluidsynth1:amd64.\n",
            "(Reading database ... 155013 files and directories currently installed.)\n",
            "Preparing to unpack .../libfluidsynth1_1.1.9-1_amd64.deb ...\n",
            "Unpacking libfluidsynth1:amd64 (1.1.9-1) ...\n",
            "Setting up libfluidsynth1:amd64 (1.1.9-1) ...\n",
            "Processing triggers for libc-bin (2.27-3ubuntu1.3) ...\n",
            "/sbin/ldconfig.real: /usr/local/lib/python3.7/dist-packages/ideep4py/lib/libmkldnn.so.0 is not a symbolic link\n",
            "\n"
          ]
        }
      ]
    },
    {
      "cell_type": "code",
      "metadata": {
        "colab": {
          "base_uri": "https://localhost:8080/"
        },
        "id": "J6XbcVj_JM3U",
        "outputId": "2f839456-ac1e-482a-d107-2aa65e7f4315"
      },
      "source": [
        "!apt-get -qq install -y libarchive-dev && pip install -U libarchive\n",
        "import libarchive"
      ],
      "execution_count": 10,
      "outputs": [
        {
          "output_type": "stream",
          "name": "stdout",
          "text": [
            "Selecting previously unselected package libarchive-dev:amd64.\n",
            "(Reading database ... \r(Reading database ... 5%\r(Reading database ... 10%\r(Reading database ... 15%\r(Reading database ... 20%\r(Reading database ... 25%\r(Reading database ... 30%\r(Reading database ... 35%\r(Reading database ... 40%\r(Reading database ... 45%\r(Reading database ... 50%\r(Reading database ... 55%\r(Reading database ... 60%\r(Reading database ... 65%\r(Reading database ... 70%\r(Reading database ... 75%\r(Reading database ... 80%\r(Reading database ... 85%\r(Reading database ... 90%\r(Reading database ... 95%\r(Reading database ... 100%\r(Reading database ... 155018 files and directories currently installed.)\n",
            "Preparing to unpack .../libarchive-dev_3.2.2-3.1ubuntu0.7_amd64.deb ...\n",
            "Unpacking libarchive-dev:amd64 (3.2.2-3.1ubuntu0.7) ...\n",
            "Setting up libarchive-dev:amd64 (3.2.2-3.1ubuntu0.7) ...\n",
            "Processing triggers for man-db (2.8.3-2ubuntu0.1) ...\n",
            "Collecting libarchive\n",
            "  Downloading libarchive-0.4.7.tar.gz (23 kB)\n",
            "Collecting nose\n",
            "  Downloading nose-1.3.7-py3-none-any.whl (154 kB)\n",
            "\u001b[K     |████████████████████████████████| 154 kB 7.8 MB/s \n",
            "\u001b[?25hBuilding wheels for collected packages: libarchive\n",
            "  Building wheel for libarchive (setup.py) ... \u001b[?25l\u001b[?25hdone\n",
            "  Created wheel for libarchive: filename=libarchive-0.4.7-py3-none-any.whl size=31647 sha256=9820d287180808dcf0f8a13c729028ce4365276aee159e52ab89f19eb8aa2efc\n",
            "  Stored in directory: /root/.cache/pip/wheels/63/b1/c6/b3da79bec2012175bd43603eed98ef8548ac1733b77c1d4330\n",
            "Successfully built libarchive\n",
            "Installing collected packages: nose, libarchive\n",
            "Successfully installed libarchive-0.4.7 nose-1.3.7\n"
          ]
        }
      ]
    },
    {
      "cell_type": "code",
      "metadata": {
        "colab": {
          "base_uri": "https://localhost:8080/"
        },
        "id": "AiRnqZwlJTba",
        "outputId": "2c23773e-dba7-4e56-b182-cdd8685d0c4a"
      },
      "source": [
        "!apt-get -qq install -y graphviz && pip install pydot\n",
        "import pydot"
      ],
      "execution_count": 11,
      "outputs": [
        {
          "output_type": "stream",
          "name": "stdout",
          "text": [
            "Requirement already satisfied: pydot in /usr/local/lib/python3.7/dist-packages (1.3.0)\n",
            "Requirement already satisfied: pyparsing>=2.1.4 in /usr/local/lib/python3.7/dist-packages (from pydot) (2.4.7)\n"
          ]
        }
      ]
    },
    {
      "cell_type": "code",
      "metadata": {
        "colab": {
          "base_uri": "https://localhost:8080/"
        },
        "id": "EJ8NvTGzJZ0J",
        "outputId": "225e4fa3-af8e-4c65-89fe-375122c440da"
      },
      "source": [
        "!pip install cartopy\n",
        "import cartopy"
      ],
      "execution_count": 12,
      "outputs": [
        {
          "output_type": "stream",
          "name": "stdout",
          "text": [
            "Collecting cartopy\n",
            "  Downloading Cartopy-0.20.0.tar.gz (10.8 MB)\n",
            "\u001b[K     |████████████████████████████████| 10.8 MB 5.4 MB/s \n",
            "\u001b[?25h  Installing build dependencies ... \u001b[?25l\u001b[?25hdone\n",
            "  Getting requirements to build wheel ... \u001b[?25l\u001b[?25herror\n",
            "\u001b[33mWARNING: Discarding https://files.pythonhosted.org/packages/0f/c0/58453b036e79046d211f083880d58dcce787e7e07647ac25dc46c6555099/Cartopy-0.20.0.tar.gz#sha256=eae58aff26806e63cf115b2bce9477cedc4aa9f578c5e477b2c25cfa404f2b7a (from https://pypi.org/simple/cartopy/) (requires-python:>=3.7). Command errored out with exit status 1: /usr/bin/python3 /usr/local/lib/python3.7/dist-packages/pip/_vendor/pep517/in_process/_in_process.py get_requires_for_build_wheel /tmp/tmp0vugy61l Check the logs for full command output.\u001b[0m\n",
            "  Downloading Cartopy-0.19.0.post1.tar.gz (12.1 MB)\n",
            "\u001b[K     |████████████████████████████████| 12.1 MB 18.8 MB/s \n",
            "\u001b[?25h  Installing build dependencies ... \u001b[?25l\u001b[?25hdone\n",
            "  Getting requirements to build wheel ... \u001b[?25l\u001b[?25hdone\n",
            "    Preparing wheel metadata ... \u001b[?25l\u001b[?25hdone\n",
            "Requirement already satisfied: numpy>=1.13.3 in /usr/local/lib/python3.7/dist-packages (from cartopy) (1.19.5)\n",
            "Collecting pyshp>=2\n",
            "  Downloading pyshp-2.1.3.tar.gz (219 kB)\n",
            "\u001b[K     |████████████████████████████████| 219 kB 43.8 MB/s \n",
            "\u001b[?25hRequirement already satisfied: shapely>=1.5.6 in /usr/local/lib/python3.7/dist-packages (from cartopy) (1.7.1)\n",
            "Building wheels for collected packages: cartopy, pyshp\n",
            "  Building wheel for cartopy (PEP 517) ... \u001b[?25l\u001b[?25hdone\n",
            "  Created wheel for cartopy: filename=Cartopy-0.19.0.post1-cp37-cp37m-linux_x86_64.whl size=12516274 sha256=fbbda8262976ffcecc883eff7b4fa6e9c01d3888bb9f0194b07d1387b20e7adf\n",
            "  Stored in directory: /root/.cache/pip/wheels/98/01/f7/bd10aeb96fe4b518cde5f7c4f5e12c7202f85b7353a5017847\n",
            "  Building wheel for pyshp (setup.py) ... \u001b[?25l\u001b[?25hdone\n",
            "  Created wheel for pyshp: filename=pyshp-2.1.3-py3-none-any.whl size=37325 sha256=3dd3527eac5b2fe306bd43b8bf66c3d8882ffed9c489f04fcc05903bfa1ce2be\n",
            "  Stored in directory: /root/.cache/pip/wheels/43/f8/87/53c8cd41545ba20e536ea29a8fcb5431b5f477ca50d5dffbbe\n",
            "Successfully built cartopy pyshp\n",
            "Installing collected packages: pyshp, cartopy\n",
            "Successfully installed cartopy-0.19.0.post1 pyshp-2.1.3\n"
          ]
        }
      ]
    },
    {
      "cell_type": "code",
      "metadata": {
        "id": "w5Oi7tB5oE9g"
      },
      "source": [
        "import sys\n",
        "sys.path.insert(0, \"/content/stylegan2\")"
      ],
      "execution_count": 13,
      "outputs": []
    },
    {
      "cell_type": "code",
      "metadata": {
        "id": "VSdAUTeeQCSD"
      },
      "source": [
        "import dnnlib\n",
        "import argparse\n",
        "import numpy as np\n",
        "import PIL.Image\n",
        "import dnnlib\n",
        "import dnnlib.tflib as tflib"
      ],
      "execution_count": 17,
      "outputs": []
    },
    {
      "cell_type": "code",
      "metadata": {
        "id": "5gpc_V3jjZnO"
      },
      "source": [
        "import re\n",
        "import pretrained_networks\n",
        "\n",
        "def expand_seed(seeds, vector_size):\n",
        "  result=[]\n",
        "\n",
        "  for seed in seeds:\n",
        "    rhd=np.random.RandomState(seed)\n",
        "    result.append(rhd.rand(1,vector_size))\n",
        "\n",
        "  return result\n",
        "\n",
        "def generate_images(Gs, seeds, truncation_psi):\n",
        "    noise_vars = [var for name, var in Gs.components.synthesis.vars.items() \\\n",
        "                  if name.startswith('noise')]\n",
        "\n",
        "    Gs_kwargs = dnnlib.EasyDict()\n",
        "    Gs_kwargs.output_transform = dict(func=tflib.convert_images_to_uint8, nchw_to_nhwc=True)\n",
        "    Gs_kwargs.randomize_noise = False\n",
        "    if truncation_psi is not None:\n",
        "        Gs_kwargs.truncation_psi = truncation_psi\n",
        "\n",
        "    for seed_idx, seed in enumerate(seeds):\n",
        "        print('Generating image for seed %d/%d ...' % (seed_idx, len(seeds)))\n",
        "        rnd = np.random.RandomState()\n",
        "        tflib.set_vars({var: rnd.randn(*var.shape.as_list()) for var in noise_vars})\n",
        "        images = Gs.run(seed, None, **Gs_kwargs)\n",
        "        path = f\"/content/drive/My Drive/projects/stylegan2/video/image{seed_idx}.png\"\n",
        "        PIL.Image.fromarray(images[0], 'RGB').save(path)\n",
        "\n"
      ],
      "execution_count": 36,
      "outputs": []
    },
    {
      "cell_type": "code",
      "metadata": {
        "id": "2D-MDKOHk-e9"
      },
      "source": [
        "def main():\n",
        "    sc = dnnlib.SubmitConfig()\n",
        "    sc.num_gpus = 1\n",
        "    sc.submit_target = dnnlib.SubmitTarget.LOCAL\n",
        "    sc.local.do_not_copy_source_files = True\n",
        "    sc.run_dir_root = \"/content/drive/My Drive/projects/stylegan2\"\n",
        "    sc.run_desc = 'generate-images'\n",
        "    network_pkl = 'gdrive:networks/stylegan2-ffhq-config-f.pkl'\n",
        "\n",
        "    print('Loading networks from \"%s\"...' % network_pkl)\n",
        "    _G, _D, Gs = pretrained_networks.load_networks(network_pkl)\n",
        "    vector_size = Gs.input_shape[1:][0]\n",
        "    seeds = expand_seed( range(8000,8020), vector_size)\n",
        "    generate_images(Gs, seeds,truncation_psi=0.5)"
      ],
      "execution_count": 20,
      "outputs": []
    },
    {
      "cell_type": "code",
      "metadata": {
        "colab": {
          "base_uri": "https://localhost:8080/"
        },
        "id": "tVtrxNUJ8fGf",
        "outputId": "44a49179-08f2-4537-ae18-e3a3b8206e7d"
      },
      "source": [
        "if __name__ == \"__main__\":\n",
        "  main()"
      ],
      "execution_count": 37,
      "outputs": [
        {
          "output_type": "stream",
          "name": "stdout",
          "text": [
            "Loading networks from \"gdrive:networks/stylegan2-ffhq-config-f.pkl\"...\n",
            "Generating image for seed 0/20 ...\n",
            "Generating image for seed 1/20 ...\n",
            "Generating image for seed 2/20 ...\n",
            "Generating image for seed 3/20 ...\n",
            "Generating image for seed 4/20 ...\n",
            "Generating image for seed 5/20 ...\n",
            "Generating image for seed 6/20 ...\n",
            "Generating image for seed 7/20 ...\n",
            "Generating image for seed 8/20 ...\n",
            "Generating image for seed 9/20 ...\n",
            "Generating image for seed 10/20 ...\n",
            "Generating image for seed 11/20 ...\n",
            "Generating image for seed 12/20 ...\n",
            "Generating image for seed 13/20 ...\n",
            "Generating image for seed 14/20 ...\n",
            "Generating image for seed 15/20 ...\n",
            "Generating image for seed 16/20 ...\n",
            "Generating image for seed 17/20 ...\n",
            "Generating image for seed 18/20 ...\n",
            "Generating image for seed 19/20 ...\n"
          ]
        }
      ]
    },
    {
      "cell_type": "code",
      "metadata": {
        "colab": {
          "base_uri": "https://localhost:8080/"
        },
        "id": "dDOk49NW8lWK",
        "outputId": "e3a2a189-656c-4a22-c75e-ecd48208095a"
      },
      "source": [
        "sc = dnnlib.SubmitConfig()\n",
        "sc.num_gpus = 1\n",
        "sc.submit_target = dnnlib.SubmitTarget.LOCAL\n",
        "sc.local.do_not_copy_source_files = True\n",
        "sc.run_dir_root = \"/content/drive/My Drive/projects/stylegan2\"\n",
        "sc.run_desc = 'generate-images'\n",
        "network_pkl = 'gdrive:networks/stylegan2-ffhq-config-f.pkl'\n",
        "\n",
        "print('Loading networks from \"%s\"...' % network_pkl)\n",
        "_G, _D, Gs = pretrained_networks.load_networks(network_pkl)\n",
        "vector_size = Gs.input_shape[1:][0]\n",
        "# range(8192,8300)\n",
        "seeds = expand_seed( [8692+1,8692+9], vector_size)\n",
        "#generate_images(Gs, seeds,truncation_psi=0.5)\n",
        "print(seeds[0].shape)"
      ],
      "execution_count": 40,
      "outputs": [
        {
          "output_type": "stream",
          "name": "stdout",
          "text": [
            "Loading networks from \"gdrive:networks/stylegan2-ffhq-config-f.pkl\"...\n",
            "(1, 512)\n"
          ]
        }
      ]
    },
    {
      "cell_type": "code",
      "metadata": {
        "colab": {
          "base_uri": "https://localhost:8080/"
        },
        "id": "nUzk8P8XAbbP",
        "outputId": "5bffeda1-3fb5-455f-d3f3-56f99e4b2d0f"
      },
      "source": [
        "STEPS = 300\n",
        "diff = seeds[1] - seeds[0]\n",
        "step = diff / STEPS\n",
        "current = seeds[0].copy()\n",
        "\n",
        "seeds2 = []\n",
        "for i in range(STEPS):\n",
        "  seeds2.append(current)\n",
        "  current = current + step\n",
        "\n",
        "generate_images(Gs, seeds2,truncation_psi=0.5)"
      ],
      "execution_count": 41,
      "outputs": [
        {
          "output_type": "stream",
          "name": "stdout",
          "text": [
            "Generating image for seed 0/300 ...\n",
            "Generating image for seed 1/300 ...\n",
            "Generating image for seed 2/300 ...\n",
            "Generating image for seed 3/300 ...\n",
            "Generating image for seed 4/300 ...\n",
            "Generating image for seed 5/300 ...\n",
            "Generating image for seed 6/300 ...\n",
            "Generating image for seed 7/300 ...\n",
            "Generating image for seed 8/300 ...\n",
            "Generating image for seed 9/300 ...\n",
            "Generating image for seed 10/300 ...\n",
            "Generating image for seed 11/300 ...\n",
            "Generating image for seed 12/300 ...\n",
            "Generating image for seed 13/300 ...\n",
            "Generating image for seed 14/300 ...\n",
            "Generating image for seed 15/300 ...\n",
            "Generating image for seed 16/300 ...\n",
            "Generating image for seed 17/300 ...\n",
            "Generating image for seed 18/300 ...\n",
            "Generating image for seed 19/300 ...\n",
            "Generating image for seed 20/300 ...\n",
            "Generating image for seed 21/300 ...\n",
            "Generating image for seed 22/300 ...\n",
            "Generating image for seed 23/300 ...\n",
            "Generating image for seed 24/300 ...\n",
            "Generating image for seed 25/300 ...\n",
            "Generating image for seed 26/300 ...\n",
            "Generating image for seed 27/300 ...\n",
            "Generating image for seed 28/300 ...\n",
            "Generating image for seed 29/300 ...\n",
            "Generating image for seed 30/300 ...\n",
            "Generating image for seed 31/300 ...\n",
            "Generating image for seed 32/300 ...\n",
            "Generating image for seed 33/300 ...\n",
            "Generating image for seed 34/300 ...\n",
            "Generating image for seed 35/300 ...\n",
            "Generating image for seed 36/300 ...\n",
            "Generating image for seed 37/300 ...\n",
            "Generating image for seed 38/300 ...\n",
            "Generating image for seed 39/300 ...\n",
            "Generating image for seed 40/300 ...\n",
            "Generating image for seed 41/300 ...\n",
            "Generating image for seed 42/300 ...\n",
            "Generating image for seed 43/300 ...\n",
            "Generating image for seed 44/300 ...\n",
            "Generating image for seed 45/300 ...\n",
            "Generating image for seed 46/300 ...\n",
            "Generating image for seed 47/300 ...\n",
            "Generating image for seed 48/300 ...\n",
            "Generating image for seed 49/300 ...\n",
            "Generating image for seed 50/300 ...\n",
            "Generating image for seed 51/300 ...\n",
            "Generating image for seed 52/300 ...\n",
            "Generating image for seed 53/300 ...\n",
            "Generating image for seed 54/300 ...\n",
            "Generating image for seed 55/300 ...\n",
            "Generating image for seed 56/300 ...\n",
            "Generating image for seed 57/300 ...\n",
            "Generating image for seed 58/300 ...\n",
            "Generating image for seed 59/300 ...\n",
            "Generating image for seed 60/300 ...\n",
            "Generating image for seed 61/300 ...\n",
            "Generating image for seed 62/300 ...\n",
            "Generating image for seed 63/300 ...\n",
            "Generating image for seed 64/300 ...\n",
            "Generating image for seed 65/300 ...\n",
            "Generating image for seed 66/300 ...\n",
            "Generating image for seed 67/300 ...\n",
            "Generating image for seed 68/300 ...\n",
            "Generating image for seed 69/300 ...\n",
            "Generating image for seed 70/300 ...\n",
            "Generating image for seed 71/300 ...\n",
            "Generating image for seed 72/300 ...\n",
            "Generating image for seed 73/300 ...\n",
            "Generating image for seed 74/300 ...\n",
            "Generating image for seed 75/300 ...\n",
            "Generating image for seed 76/300 ...\n",
            "Generating image for seed 77/300 ...\n",
            "Generating image for seed 78/300 ...\n",
            "Generating image for seed 79/300 ...\n",
            "Generating image for seed 80/300 ...\n",
            "Generating image for seed 81/300 ...\n",
            "Generating image for seed 82/300 ...\n",
            "Generating image for seed 83/300 ...\n",
            "Generating image for seed 84/300 ...\n",
            "Generating image for seed 85/300 ...\n",
            "Generating image for seed 86/300 ...\n",
            "Generating image for seed 87/300 ...\n",
            "Generating image for seed 88/300 ...\n",
            "Generating image for seed 89/300 ...\n",
            "Generating image for seed 90/300 ...\n",
            "Generating image for seed 91/300 ...\n",
            "Generating image for seed 92/300 ...\n",
            "Generating image for seed 93/300 ...\n",
            "Generating image for seed 94/300 ...\n",
            "Generating image for seed 95/300 ...\n",
            "Generating image for seed 96/300 ...\n",
            "Generating image for seed 97/300 ...\n",
            "Generating image for seed 98/300 ...\n",
            "Generating image for seed 99/300 ...\n",
            "Generating image for seed 100/300 ...\n",
            "Generating image for seed 101/300 ...\n",
            "Generating image for seed 102/300 ...\n",
            "Generating image for seed 103/300 ...\n",
            "Generating image for seed 104/300 ...\n",
            "Generating image for seed 105/300 ...\n",
            "Generating image for seed 106/300 ...\n",
            "Generating image for seed 107/300 ...\n",
            "Generating image for seed 108/300 ...\n",
            "Generating image for seed 109/300 ...\n",
            "Generating image for seed 110/300 ...\n",
            "Generating image for seed 111/300 ...\n",
            "Generating image for seed 112/300 ...\n",
            "Generating image for seed 113/300 ...\n",
            "Generating image for seed 114/300 ...\n",
            "Generating image for seed 115/300 ...\n",
            "Generating image for seed 116/300 ...\n",
            "Generating image for seed 117/300 ...\n",
            "Generating image for seed 118/300 ...\n",
            "Generating image for seed 119/300 ...\n",
            "Generating image for seed 120/300 ...\n",
            "Generating image for seed 121/300 ...\n",
            "Generating image for seed 122/300 ...\n",
            "Generating image for seed 123/300 ...\n",
            "Generating image for seed 124/300 ...\n",
            "Generating image for seed 125/300 ...\n",
            "Generating image for seed 126/300 ...\n",
            "Generating image for seed 127/300 ...\n",
            "Generating image for seed 128/300 ...\n",
            "Generating image for seed 129/300 ...\n",
            "Generating image for seed 130/300 ...\n",
            "Generating image for seed 131/300 ...\n",
            "Generating image for seed 132/300 ...\n",
            "Generating image for seed 133/300 ...\n",
            "Generating image for seed 134/300 ...\n",
            "Generating image for seed 135/300 ...\n",
            "Generating image for seed 136/300 ...\n",
            "Generating image for seed 137/300 ...\n",
            "Generating image for seed 138/300 ...\n",
            "Generating image for seed 139/300 ...\n",
            "Generating image for seed 140/300 ...\n",
            "Generating image for seed 141/300 ...\n",
            "Generating image for seed 142/300 ...\n",
            "Generating image for seed 143/300 ...\n",
            "Generating image for seed 144/300 ...\n",
            "Generating image for seed 145/300 ...\n",
            "Generating image for seed 146/300 ...\n",
            "Generating image for seed 147/300 ...\n",
            "Generating image for seed 148/300 ...\n",
            "Generating image for seed 149/300 ...\n",
            "Generating image for seed 150/300 ...\n",
            "Generating image for seed 151/300 ...\n",
            "Generating image for seed 152/300 ...\n",
            "Generating image for seed 153/300 ...\n",
            "Generating image for seed 154/300 ...\n",
            "Generating image for seed 155/300 ...\n",
            "Generating image for seed 156/300 ...\n",
            "Generating image for seed 157/300 ...\n",
            "Generating image for seed 158/300 ...\n",
            "Generating image for seed 159/300 ...\n",
            "Generating image for seed 160/300 ...\n",
            "Generating image for seed 161/300 ...\n",
            "Generating image for seed 162/300 ...\n",
            "Generating image for seed 163/300 ...\n",
            "Generating image for seed 164/300 ...\n",
            "Generating image for seed 165/300 ...\n",
            "Generating image for seed 166/300 ...\n",
            "Generating image for seed 167/300 ...\n",
            "Generating image for seed 168/300 ...\n",
            "Generating image for seed 169/300 ...\n",
            "Generating image for seed 170/300 ...\n",
            "Generating image for seed 171/300 ...\n",
            "Generating image for seed 172/300 ...\n",
            "Generating image for seed 173/300 ...\n",
            "Generating image for seed 174/300 ...\n",
            "Generating image for seed 175/300 ...\n",
            "Generating image for seed 176/300 ...\n",
            "Generating image for seed 177/300 ...\n",
            "Generating image for seed 178/300 ...\n",
            "Generating image for seed 179/300 ...\n",
            "Generating image for seed 180/300 ...\n",
            "Generating image for seed 181/300 ...\n",
            "Generating image for seed 182/300 ...\n",
            "Generating image for seed 183/300 ...\n",
            "Generating image for seed 184/300 ...\n",
            "Generating image for seed 185/300 ...\n",
            "Generating image for seed 186/300 ...\n",
            "Generating image for seed 187/300 ...\n",
            "Generating image for seed 188/300 ...\n",
            "Generating image for seed 189/300 ...\n",
            "Generating image for seed 190/300 ...\n",
            "Generating image for seed 191/300 ...\n",
            "Generating image for seed 192/300 ...\n",
            "Generating image for seed 193/300 ...\n",
            "Generating image for seed 194/300 ...\n",
            "Generating image for seed 195/300 ...\n",
            "Generating image for seed 196/300 ...\n",
            "Generating image for seed 197/300 ...\n",
            "Generating image for seed 198/300 ...\n",
            "Generating image for seed 199/300 ...\n",
            "Generating image for seed 200/300 ...\n",
            "Generating image for seed 201/300 ...\n",
            "Generating image for seed 202/300 ...\n",
            "Generating image for seed 203/300 ...\n",
            "Generating image for seed 204/300 ...\n",
            "Generating image for seed 205/300 ...\n",
            "Generating image for seed 206/300 ...\n",
            "Generating image for seed 207/300 ...\n",
            "Generating image for seed 208/300 ...\n",
            "Generating image for seed 209/300 ...\n",
            "Generating image for seed 210/300 ...\n",
            "Generating image for seed 211/300 ...\n",
            "Generating image for seed 212/300 ...\n",
            "Generating image for seed 213/300 ...\n",
            "Generating image for seed 214/300 ...\n",
            "Generating image for seed 215/300 ...\n",
            "Generating image for seed 216/300 ...\n",
            "Generating image for seed 217/300 ...\n",
            "Generating image for seed 218/300 ...\n",
            "Generating image for seed 219/300 ...\n",
            "Generating image for seed 220/300 ...\n",
            "Generating image for seed 221/300 ...\n",
            "Generating image for seed 222/300 ...\n",
            "Generating image for seed 223/300 ...\n",
            "Generating image for seed 224/300 ...\n",
            "Generating image for seed 225/300 ...\n",
            "Generating image for seed 226/300 ...\n",
            "Generating image for seed 227/300 ...\n",
            "Generating image for seed 228/300 ...\n",
            "Generating image for seed 229/300 ...\n",
            "Generating image for seed 230/300 ...\n",
            "Generating image for seed 231/300 ...\n",
            "Generating image for seed 232/300 ...\n",
            "Generating image for seed 233/300 ...\n",
            "Generating image for seed 234/300 ...\n",
            "Generating image for seed 235/300 ...\n",
            "Generating image for seed 236/300 ...\n",
            "Generating image for seed 237/300 ...\n",
            "Generating image for seed 238/300 ...\n",
            "Generating image for seed 239/300 ...\n",
            "Generating image for seed 240/300 ...\n",
            "Generating image for seed 241/300 ...\n",
            "Generating image for seed 242/300 ...\n",
            "Generating image for seed 243/300 ...\n",
            "Generating image for seed 244/300 ...\n",
            "Generating image for seed 245/300 ...\n",
            "Generating image for seed 246/300 ...\n",
            "Generating image for seed 247/300 ...\n",
            "Generating image for seed 248/300 ...\n",
            "Generating image for seed 249/300 ...\n",
            "Generating image for seed 250/300 ...\n",
            "Generating image for seed 251/300 ...\n",
            "Generating image for seed 252/300 ...\n",
            "Generating image for seed 253/300 ...\n",
            "Generating image for seed 254/300 ...\n",
            "Generating image for seed 255/300 ...\n",
            "Generating image for seed 256/300 ...\n",
            "Generating image for seed 257/300 ...\n",
            "Generating image for seed 258/300 ...\n",
            "Generating image for seed 259/300 ...\n",
            "Generating image for seed 260/300 ...\n",
            "Generating image for seed 261/300 ...\n",
            "Generating image for seed 262/300 ...\n",
            "Generating image for seed 263/300 ...\n",
            "Generating image for seed 264/300 ...\n",
            "Generating image for seed 265/300 ...\n",
            "Generating image for seed 266/300 ...\n",
            "Generating image for seed 267/300 ...\n",
            "Generating image for seed 268/300 ...\n",
            "Generating image for seed 269/300 ...\n",
            "Generating image for seed 270/300 ...\n",
            "Generating image for seed 271/300 ...\n",
            "Generating image for seed 272/300 ...\n",
            "Generating image for seed 273/300 ...\n",
            "Generating image for seed 274/300 ...\n",
            "Generating image for seed 275/300 ...\n",
            "Generating image for seed 276/300 ...\n",
            "Generating image for seed 277/300 ...\n",
            "Generating image for seed 278/300 ...\n",
            "Generating image for seed 279/300 ...\n",
            "Generating image for seed 280/300 ...\n",
            "Generating image for seed 281/300 ...\n",
            "Generating image for seed 282/300 ...\n",
            "Generating image for seed 283/300 ...\n",
            "Generating image for seed 284/300 ...\n",
            "Generating image for seed 285/300 ...\n",
            "Generating image for seed 286/300 ...\n",
            "Generating image for seed 287/300 ...\n",
            "Generating image for seed 288/300 ...\n",
            "Generating image for seed 289/300 ...\n",
            "Generating image for seed 290/300 ...\n",
            "Generating image for seed 291/300 ...\n",
            "Generating image for seed 292/300 ...\n",
            "Generating image for seed 293/300 ...\n",
            "Generating image for seed 294/300 ...\n",
            "Generating image for seed 295/300 ...\n",
            "Generating image for seed 296/300 ...\n",
            "Generating image for seed 297/300 ...\n",
            "Generating image for seed 298/300 ...\n",
            "Generating image for seed 299/300 ...\n"
          ]
        }
      ]
    },
    {
      "cell_type": "code",
      "metadata": {
        "colab": {
          "base_uri": "https://localhost:8080/"
        },
        "id": "D3GU4VKAAfhk",
        "outputId": "67a29756-2682-4180-85c1-0e522bc9b7cb"
      },
      "source": [
        "import cv2\n",
        "\n",
        "fourcc = cv2.VideoWriter_fourcc(*'XVID')\n",
        "path = \"/content/drive/My Drive/projects/stylegan2/video/image\"\n",
        "image = cv2.imread(path+\"1.png\")\n",
        "height, width = image.shape[:2]\n",
        "out = cv2.VideoWriter('/content/drive/My Drive/projects/stylegan2/video/output.avi',\n",
        "                      fourcc, 30.0, (width,height))\n",
        "i = 0\n",
        "print(\"...Creating Video\")\n",
        "while i < 300:\n",
        "  path = \"/content/drive/My Drive/projects/stylegan2/video/image\"\n",
        "  image_path = path + str(i)+\".png\"\n",
        "  image = cv2.imread(image_path)\n",
        "  out.write(image)\n",
        "  i += 1\n",
        "print(\"Video Created\")\n",
        "out.release()"
      ],
      "execution_count": 42,
      "outputs": [
        {
          "output_type": "stream",
          "name": "stdout",
          "text": [
            "...Creating Video\n",
            "Video Created\n"
          ]
        }
      ]
    }
  ]
}